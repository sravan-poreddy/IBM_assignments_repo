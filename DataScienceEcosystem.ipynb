{
 "cells": [
  {
   "cell_type": "markdown",
   "id": "b27782f9-4c9e-4dda-b0f9-ec7a0a5c60ae",
   "metadata": {},
   "source": [
    "<h1> Data Science Tools and Ecosystem </h1>"
   ]
  },
  {
   "cell_type": "markdown",
   "id": "3c21d9e8-707f-4faf-b316-3d0a660377fa",
   "metadata": {},
   "source": [
    "<h2>Author</h2>\n",
    "Sravan Kumar Reddy Poreddy"
   ]
  },
  {
   "cell_type": "markdown",
   "id": "dabb3962-9316-4039-9abd-c4c80b531753",
   "metadata": {},
   "source": [
    "<b>Objectives</b>\n",
    "* List popular languages for Data Science\n",
    "* Popular libraries used by data scientist\n",
    "* popular tools used in data science\n",
    "* Few examples of arithmetic expressions"
   ]
  },
  {
   "cell_type": "markdown",
   "id": "431e6101-93f9-4efc-bf6a-884bb18fc059",
   "metadata": {},
   "source": [
    "In this notebook, Data Science Tools and Ecosystem are summarized."
   ]
  },
  {
   "cell_type": "markdown",
   "id": "6002fca3-7d3c-4201-92e5-eec10f284a05",
   "metadata": {},
   "source": [
    "Some of the popular languages that Data Scientists use are:\n",
    "1. Python\n",
    "2. Julia\n",
    "3. R\n",
    "4. C++"
   ]
  },
  {
   "cell_type": "markdown",
   "id": "a6edb441-faea-4e91-9d40-6b5980642129",
   "metadata": {},
   "source": [
    "Some of the commonly used libraries used by Data Scientists include:\n",
    "1. scikit-learn\n",
    "2. numpy\n",
    "3. pandas\n",
    "4. opencv\n",
    "5. tensorflow"
   ]
  },
  {
   "cell_type": "markdown",
   "id": "a482abf9-10fe-4911-a546-f2410b0a58a8",
   "metadata": {},
   "source": [
    "| Data Science Tools |\n",
    "|:-|\n",
    "| Jupyter Notebook |\n",
    "| RStudio |\n",
    "| Visual Studio Code |"
   ]
  },
  {
   "cell_type": "markdown",
   "id": "1a0d8e1e-72f6-4efd-941a-b0eb4bcfebfd",
   "metadata": {},
   "source": [
    "<h3>Below are a few examples of evaluating arithmetic expressions in Python.</h3>"
   ]
  },
  {
   "cell_type": "code",
   "execution_count": 2,
   "id": "7db31516-b582-45fc-801c-b32d940ac667",
   "metadata": {},
   "outputs": [
    {
     "data": {
      "text/plain": [
       "8"
      ]
     },
     "execution_count": 2,
     "metadata": {},
     "output_type": "execute_result"
    }
   ],
   "source": [
    "# Example of addition\n",
    "5+3"
   ]
  },
  {
   "cell_type": "code",
   "execution_count": 3,
   "id": "44233e09-1feb-47a4-8028-8835d4309b29",
   "metadata": {},
   "outputs": [
    {
     "data": {
      "text/plain": [
       "6"
      ]
     },
     "execution_count": 3,
     "metadata": {},
     "output_type": "execute_result"
    }
   ],
   "source": [
    "# Example of subtraction\n",
    "10-4"
   ]
  },
  {
   "cell_type": "code",
   "execution_count": 4,
   "id": "b84fd38e-9b36-418a-9e2f-6ffb0fadae19",
   "metadata": {},
   "outputs": [
    {
     "data": {
      "text/plain": [
       "70"
      ]
     },
     "execution_count": 4,
     "metadata": {},
     "output_type": "execute_result"
    }
   ],
   "source": [
    "# Example of multiply\n",
    "10*7"
   ]
  },
  {
   "cell_type": "code",
   "execution_count": 5,
   "id": "db0264ea-7004-414e-af0c-471b84274abe",
   "metadata": {},
   "outputs": [
    {
     "data": {
      "text/plain": [
       "52.0"
      ]
     },
     "execution_count": 5,
     "metadata": {},
     "output_type": "execute_result"
    }
   ],
   "source": [
    "# example of division\n",
    "104/2"
   ]
  },
  {
   "cell_type": "code",
   "execution_count": 6,
   "id": "3adaacba-07c9-4c59-bcd6-7448dd1a63bc",
   "metadata": {},
   "outputs": [
    {
     "data": {
      "text/plain": [
       "8"
      ]
     },
     "execution_count": 6,
     "metadata": {},
     "output_type": "execute_result"
    }
   ],
   "source": [
    "# Example of exponentiation\n",
    "2 ** 3"
   ]
  },
  {
   "cell_type": "code",
   "execution_count": null,
   "id": "cb5c24c6-3638-45dd-8916-9e9a45592151",
   "metadata": {},
   "outputs": [],
   "source": []
  },
  {
   "cell_type": "code",
   "execution_count": null,
   "id": "dbfba469-dc3b-4f93-a9e7-202530522ca1",
   "metadata": {},
   "outputs": [],
   "source": []
  },
  {
   "cell_type": "code",
   "execution_count": 7,
   "id": "64af97e1-c732-42ce-b35b-6ea70bd25b05",
   "metadata": {},
   "outputs": [
    {
     "data": {
      "text/plain": [
       "17"
      ]
     },
     "execution_count": 7,
     "metadata": {},
     "output_type": "execute_result"
    }
   ],
   "source": [
    "# This a simple arithmetic expression to mutiply then add integers.\n",
    "(3*4)+5"
   ]
  },
  {
   "cell_type": "code",
   "execution_count": 8,
   "id": "1eddd6c9-cdf2-4f38-939a-524f918925e6",
   "metadata": {},
   "outputs": [
    {
     "data": {
      "text/plain": [
       "3.3333333333333335"
      ]
     },
     "execution_count": 8,
     "metadata": {},
     "output_type": "execute_result"
    }
   ],
   "source": [
    "# This will convert 200 minutes to hours by diving by 60.\n",
    "# Convert 200 minutes into hours\n",
    "minutes = 200\n",
    "minutes / 60"
   ]
  },
  {
   "cell_type": "code",
   "execution_count": null,
   "id": "ee7cf8ee-d811-4f6a-8ca7-f31ab58a5269",
   "metadata": {},
   "outputs": [],
   "source": []
  }
 ],
 "metadata": {
  "kernelspec": {
   "display_name": "Python 3 (ipykernel)",
   "language": "python",
   "name": "python3"
  },
  "language_info": {
   "codemirror_mode": {
    "name": "ipython",
    "version": 3
   },
   "file_extension": ".py",
   "mimetype": "text/x-python",
   "name": "python",
   "nbconvert_exporter": "python",
   "pygments_lexer": "ipython3",
   "version": "3.11.9"
  }
 },
 "nbformat": 4,
 "nbformat_minor": 5
}
